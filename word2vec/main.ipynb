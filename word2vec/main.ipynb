{
 "cells": [
  {
   "cell_type": "markdown",
   "id": "444dc47e",
   "metadata": {},
   "source": [
    "## Лабораторная работа №1\n",
    "\n",
    "**Тема:** word2vec и TF-IDF\n",
    "\n",
    "**Выполнил:** Студент группы БВТ2201 Шамсутдинов Рустам Фаргатевич\n",
    "\n",
    "**Цель лабораторной работы:** Изучить и реализовать алгоритмы word2vec и TF-IDF."
   ]
  }
 ],
 "metadata": {
  "language_info": {
   "name": "python"
  }
 },
 "nbformat": 4,
 "nbformat_minor": 5
}
