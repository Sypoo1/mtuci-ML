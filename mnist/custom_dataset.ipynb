{
 "cells": [
  {
   "cell_type": "markdown",
   "metadata": {},
   "source": [
    "Обучить мнист\n",
    "\n",
    "\n",
    "MNIST это набор картинок размер которых 1x28x28. Берите датасет в котором пиксель может быть вещественным числом от 0 до 1. Просто там есть датасет у которого значение пикселя либо 0 либо 1, его скипаем.\n",
    "\n",
    "\n",
    "Это задача классификации, на каждой картинке написана цифра, и нужно предктнуть что это за цифра\n",
    "\n",
    "\n",
    "Архитектура MLP\n",
    "\n",
    "\n",
    "1) написать свой датасет(класс) и даталаудер\n",
    "2) написать архитектуру MLP+классификатор\n",
    "3) использовать либо SGD либо Adam в качестве оптимизатора\n",
    "4) использовать CrossEntropyLoss в качестве лоссфункции\n",
    "5) использовать ReLU в качестве функции активации \n",
    "6) переводить модель на cuda, переводить номер класса в one hot вектор, использовать argmax для обратного преобразования \n",
    "\n",
    "\n",
    "слой классификации это обычный линейный слой, у которого функция активации Softmax(но это не обязательно, нужно только для того чтобы увидеть именно вероятности)\n",
    "\n",
    "\n"
   ]
  },
  {
   "cell_type": "code",
   "execution_count": 8,
   "metadata": {},
   "outputs": [],
   "source": [
    "import torch\n",
    "from torch import Tensor"
   ]
  },
  {
   "cell_type": "code",
   "execution_count": null,
   "metadata": {},
   "outputs": [],
   "source": [
    "class MNIST(torch.utils.data.Dataset):"
   ]
  },
  {
   "cell_type": "code",
   "execution_count": 11,
   "metadata": {},
   "outputs": [
    {
     "data": {
      "text/plain": [
       "torch.Tensor"
      ]
     },
     "execution_count": 11,
     "metadata": {},
     "output_type": "execute_result"
    }
   ],
   "source": [
    "# class MNIST():\n",
    "a: Tensor = torch.ones(2,2)\n",
    "a.shape\n",
    "type(a)"
   ]
  },
  {
   "cell_type": "code",
   "execution_count": 1,
   "metadata": {},
   "outputs": [
    {
     "ename": "NameError",
     "evalue": "name 'train_dataloader' is not defined",
     "output_type": "error",
     "traceback": [
      "\u001b[0;31m---------------------------------------------------------------------------\u001b[0m",
      "\u001b[0;31mNameError\u001b[0m                                 Traceback (most recent call last)",
      "Cell \u001b[0;32mIn[1], line 1\u001b[0m\n\u001b[0;32m----> 1\u001b[0m \u001b[38;5;28;01mfor\u001b[39;00m batch, (X, y) \u001b[38;5;129;01min\u001b[39;00m \u001b[38;5;28menumerate\u001b[39m(\u001b[43mtrain_dataloader\u001b[49m):\n\u001b[1;32m      2\u001b[0m     \u001b[38;5;28mprint\u001b[39m(batch, X\u001b[38;5;241m.\u001b[39mshape, y\u001b[38;5;241m.\u001b[39mshape)\n",
      "\u001b[0;31mNameError\u001b[0m: name 'train_dataloader' is not defined"
     ]
    }
   ],
   "source": [
    "for batch, (X, y) in enumerate(train_dataloader):\n",
    "    print(batch, X.shape, y.shape)"
   ]
  }
 ],
 "metadata": {
  "kernelspec": {
   "display_name": ".venv",
   "language": "python",
   "name": "python3"
  },
  "language_info": {
   "codemirror_mode": {
    "name": "ipython",
    "version": 3
   },
   "file_extension": ".py",
   "mimetype": "text/x-python",
   "name": "python",
   "nbconvert_exporter": "python",
   "pygments_lexer": "ipython3",
   "version": "3.12.9"
  }
 },
 "nbformat": 4,
 "nbformat_minor": 2
}
